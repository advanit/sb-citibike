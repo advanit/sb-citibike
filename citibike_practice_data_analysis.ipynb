{
 "cells": [
  {
   "cell_type": "code",
   "execution_count": 189,
   "metadata": {
    "collapsed": true
   },
   "outputs": [],
   "source": [
    "## CitiBike Data Analysis\n",
    "#### Original Producer: Luis Vale DaSilva (PharmD)"
   ]
  },
  {
   "cell_type": "code",
   "execution_count": 31,
   "metadata": {},
   "outputs": [
    {
     "name": "stdout",
     "output_type": "stream",
     "text": [
      "Reading 2014-04 - Citi Bike trip data.csv\n"
     ]
    }
   ],
   "source": [
    "import glob\n",
    "# Get file names\n",
    "filenames = glob.glob('*.csv')\n",
    "\n",
    "import pandas as pd\n",
    "# Loop through file names and read the data\n",
    "dfs = []\n",
    "for file in filenames:\n",
    "    print('Reading ' + file)\n",
    "    dfs.append(pd.read_csv(file))"
   ]
  },
  {
   "cell_type": "markdown",
   "metadata": {},
   "source": []
  },
  {
   "cell_type": "code",
   "execution_count": 32,
   "metadata": {},
   "outputs": [],
   "source": [
    "!rm *.csv"
   ]
  },
  {
   "cell_type": "code",
   "execution_count": 33,
   "metadata": {},
   "outputs": [
    {
     "data": {
      "text/html": [
       "<div>\n",
       "<style>\n",
       "    .dataframe thead tr:only-child th {\n",
       "        text-align: right;\n",
       "    }\n",
       "\n",
       "    .dataframe thead th {\n",
       "        text-align: left;\n",
       "    }\n",
       "\n",
       "    .dataframe tbody tr th {\n",
       "        vertical-align: top;\n",
       "    }\n",
       "</style>\n",
       "<table border=\"1\" class=\"dataframe\">\n",
       "  <thead>\n",
       "    <tr style=\"text-align: right;\">\n",
       "      <th></th>\n",
       "      <th>tripduration</th>\n",
       "      <th>starttime</th>\n",
       "      <th>stoptime</th>\n",
       "      <th>start station id</th>\n",
       "      <th>start station name</th>\n",
       "      <th>start station latitude</th>\n",
       "      <th>start station longitude</th>\n",
       "      <th>end station id</th>\n",
       "      <th>end station name</th>\n",
       "      <th>end station latitude</th>\n",
       "      <th>end station longitude</th>\n",
       "      <th>bikeid</th>\n",
       "      <th>usertype</th>\n",
       "      <th>birth year</th>\n",
       "      <th>gender</th>\n",
       "    </tr>\n",
       "  </thead>\n",
       "  <tbody>\n",
       "    <tr>\n",
       "      <th>0</th>\n",
       "      <td>558</td>\n",
       "      <td>2014-04-01 00:00:07</td>\n",
       "      <td>2014-04-01 00:09:25</td>\n",
       "      <td>82</td>\n",
       "      <td>St James Pl &amp; Pearl St</td>\n",
       "      <td>40.711174</td>\n",
       "      <td>-74.000165</td>\n",
       "      <td>2008</td>\n",
       "      <td>Little West St &amp; 1 Pl</td>\n",
       "      <td>40.705693</td>\n",
       "      <td>-74.016777</td>\n",
       "      <td>21062</td>\n",
       "      <td>Subscriber</td>\n",
       "      <td>1982</td>\n",
       "      <td>1</td>\n",
       "    </tr>\n",
       "    <tr>\n",
       "      <th>1</th>\n",
       "      <td>882</td>\n",
       "      <td>2014-04-01 00:00:20</td>\n",
       "      <td>2014-04-01 00:15:02</td>\n",
       "      <td>349</td>\n",
       "      <td>Rivington St &amp; Ridge St</td>\n",
       "      <td>40.718502</td>\n",
       "      <td>-73.983299</td>\n",
       "      <td>312</td>\n",
       "      <td>Allen St &amp; E Houston St</td>\n",
       "      <td>40.722055</td>\n",
       "      <td>-73.989111</td>\n",
       "      <td>20229</td>\n",
       "      <td>Subscriber</td>\n",
       "      <td>1988</td>\n",
       "      <td>1</td>\n",
       "    </tr>\n",
       "    <tr>\n",
       "      <th>2</th>\n",
       "      <td>587</td>\n",
       "      <td>2014-04-01 00:00:25</td>\n",
       "      <td>2014-04-01 00:10:12</td>\n",
       "      <td>293</td>\n",
       "      <td>Lafayette St &amp; E 8 St</td>\n",
       "      <td>40.730287</td>\n",
       "      <td>-73.990765</td>\n",
       "      <td>334</td>\n",
       "      <td>W 20 St &amp; 7 Ave</td>\n",
       "      <td>40.742388</td>\n",
       "      <td>-73.997262</td>\n",
       "      <td>20922</td>\n",
       "      <td>Subscriber</td>\n",
       "      <td>1959</td>\n",
       "      <td>1</td>\n",
       "    </tr>\n",
       "    <tr>\n",
       "      <th>3</th>\n",
       "      <td>355</td>\n",
       "      <td>2014-04-01 00:00:44</td>\n",
       "      <td>2014-04-01 00:06:39</td>\n",
       "      <td>539</td>\n",
       "      <td>Metropolitan Ave &amp; Bedford Ave</td>\n",
       "      <td>40.715348</td>\n",
       "      <td>-73.960241</td>\n",
       "      <td>282</td>\n",
       "      <td>Kent Ave &amp; S 11 St</td>\n",
       "      <td>40.708273</td>\n",
       "      <td>-73.968341</td>\n",
       "      <td>20914</td>\n",
       "      <td>Subscriber</td>\n",
       "      <td>1981</td>\n",
       "      <td>1</td>\n",
       "    </tr>\n",
       "    <tr>\n",
       "      <th>4</th>\n",
       "      <td>524</td>\n",
       "      <td>2014-04-01 00:01:29</td>\n",
       "      <td>2014-04-01 00:10:13</td>\n",
       "      <td>459</td>\n",
       "      <td>W 20 St &amp; 11 Ave</td>\n",
       "      <td>40.746745</td>\n",
       "      <td>-74.007756</td>\n",
       "      <td>503</td>\n",
       "      <td>E 20 St &amp; Park Ave</td>\n",
       "      <td>40.738274</td>\n",
       "      <td>-73.987520</td>\n",
       "      <td>21051</td>\n",
       "      <td>Subscriber</td>\n",
       "      <td>1964</td>\n",
       "      <td>1</td>\n",
       "    </tr>\n",
       "    <tr>\n",
       "      <th>5</th>\n",
       "      <td>301</td>\n",
       "      <td>2014-04-01 00:01:53</td>\n",
       "      <td>2014-04-01 00:06:54</td>\n",
       "      <td>281</td>\n",
       "      <td>Grand Army Plaza &amp; Central Park S</td>\n",
       "      <td>40.764397</td>\n",
       "      <td>-73.973715</td>\n",
       "      <td>500</td>\n",
       "      <td>Broadway &amp; W 51 St</td>\n",
       "      <td>40.762288</td>\n",
       "      <td>-73.983362</td>\n",
       "      <td>17286</td>\n",
       "      <td>Subscriber</td>\n",
       "      <td>1970</td>\n",
       "      <td>1</td>\n",
       "    </tr>\n",
       "    <tr>\n",
       "      <th>6</th>\n",
       "      <td>136</td>\n",
       "      <td>2014-04-01 00:02:34</td>\n",
       "      <td>2014-04-01 00:04:50</td>\n",
       "      <td>386</td>\n",
       "      <td>Centre St &amp; Worth St</td>\n",
       "      <td>40.714948</td>\n",
       "      <td>-74.002345</td>\n",
       "      <td>387</td>\n",
       "      <td>Centre St &amp; Chambers St</td>\n",
       "      <td>40.712733</td>\n",
       "      <td>-74.004607</td>\n",
       "      <td>21429</td>\n",
       "      <td>Subscriber</td>\n",
       "      <td>1983</td>\n",
       "      <td>2</td>\n",
       "    </tr>\n",
       "    <tr>\n",
       "      <th>7</th>\n",
       "      <td>151</td>\n",
       "      <td>2014-04-01 00:02:40</td>\n",
       "      <td>2014-04-01 00:05:11</td>\n",
       "      <td>223</td>\n",
       "      <td>W 13 St &amp; 7 Ave</td>\n",
       "      <td>40.737815</td>\n",
       "      <td>-73.999947</td>\n",
       "      <td>405</td>\n",
       "      <td>Washington St &amp; Gansevoort St</td>\n",
       "      <td>40.739323</td>\n",
       "      <td>-74.008119</td>\n",
       "      <td>15572</td>\n",
       "      <td>Subscriber</td>\n",
       "      <td>1992</td>\n",
       "      <td>1</td>\n",
       "    </tr>\n",
       "    <tr>\n",
       "      <th>8</th>\n",
       "      <td>434</td>\n",
       "      <td>2014-04-01 00:02:58</td>\n",
       "      <td>2014-04-01 00:10:12</td>\n",
       "      <td>324</td>\n",
       "      <td>DeKalb Ave &amp; Hudson Ave</td>\n",
       "      <td>40.689888</td>\n",
       "      <td>-73.981013</td>\n",
       "      <td>366</td>\n",
       "      <td>Clinton Ave &amp; Myrtle Ave</td>\n",
       "      <td>40.693261</td>\n",
       "      <td>-73.968896</td>\n",
       "      <td>17582</td>\n",
       "      <td>Subscriber</td>\n",
       "      <td>1992</td>\n",
       "      <td>2</td>\n",
       "    </tr>\n",
       "    <tr>\n",
       "      <th>9</th>\n",
       "      <td>164</td>\n",
       "      <td>2014-04-01 00:02:59</td>\n",
       "      <td>2014-04-01 00:05:43</td>\n",
       "      <td>539</td>\n",
       "      <td>Metropolitan Ave &amp; Bedford Ave</td>\n",
       "      <td>40.715348</td>\n",
       "      <td>-73.960241</td>\n",
       "      <td>460</td>\n",
       "      <td>S 4 St &amp; Wythe Ave</td>\n",
       "      <td>40.712859</td>\n",
       "      <td>-73.965903</td>\n",
       "      <td>16010</td>\n",
       "      <td>Subscriber</td>\n",
       "      <td>1983</td>\n",
       "      <td>1</td>\n",
       "    </tr>\n",
       "  </tbody>\n",
       "</table>\n",
       "</div>"
      ],
      "text/plain": [
       "   tripduration            starttime             stoptime  start station id  \\\n",
       "0           558  2014-04-01 00:00:07  2014-04-01 00:09:25                82   \n",
       "1           882  2014-04-01 00:00:20  2014-04-01 00:15:02               349   \n",
       "2           587  2014-04-01 00:00:25  2014-04-01 00:10:12               293   \n",
       "3           355  2014-04-01 00:00:44  2014-04-01 00:06:39               539   \n",
       "4           524  2014-04-01 00:01:29  2014-04-01 00:10:13               459   \n",
       "5           301  2014-04-01 00:01:53  2014-04-01 00:06:54               281   \n",
       "6           136  2014-04-01 00:02:34  2014-04-01 00:04:50               386   \n",
       "7           151  2014-04-01 00:02:40  2014-04-01 00:05:11               223   \n",
       "8           434  2014-04-01 00:02:58  2014-04-01 00:10:12               324   \n",
       "9           164  2014-04-01 00:02:59  2014-04-01 00:05:43               539   \n",
       "\n",
       "                  start station name  start station latitude  \\\n",
       "0             St James Pl & Pearl St               40.711174   \n",
       "1            Rivington St & Ridge St               40.718502   \n",
       "2              Lafayette St & E 8 St               40.730287   \n",
       "3     Metropolitan Ave & Bedford Ave               40.715348   \n",
       "4                   W 20 St & 11 Ave               40.746745   \n",
       "5  Grand Army Plaza & Central Park S               40.764397   \n",
       "6               Centre St & Worth St               40.714948   \n",
       "7                    W 13 St & 7 Ave               40.737815   \n",
       "8            DeKalb Ave & Hudson Ave               40.689888   \n",
       "9     Metropolitan Ave & Bedford Ave               40.715348   \n",
       "\n",
       "   start station longitude  end station id               end station name  \\\n",
       "0               -74.000165            2008          Little West St & 1 Pl   \n",
       "1               -73.983299             312        Allen St & E Houston St   \n",
       "2               -73.990765             334                W 20 St & 7 Ave   \n",
       "3               -73.960241             282             Kent Ave & S 11 St   \n",
       "4               -74.007756             503             E 20 St & Park Ave   \n",
       "5               -73.973715             500             Broadway & W 51 St   \n",
       "6               -74.002345             387        Centre St & Chambers St   \n",
       "7               -73.999947             405  Washington St & Gansevoort St   \n",
       "8               -73.981013             366       Clinton Ave & Myrtle Ave   \n",
       "9               -73.960241             460             S 4 St & Wythe Ave   \n",
       "\n",
       "   end station latitude  end station longitude  bikeid    usertype birth year  \\\n",
       "0             40.705693             -74.016777   21062  Subscriber       1982   \n",
       "1             40.722055             -73.989111   20229  Subscriber       1988   \n",
       "2             40.742388             -73.997262   20922  Subscriber       1959   \n",
       "3             40.708273             -73.968341   20914  Subscriber       1981   \n",
       "4             40.738274             -73.987520   21051  Subscriber       1964   \n",
       "5             40.762288             -73.983362   17286  Subscriber       1970   \n",
       "6             40.712733             -74.004607   21429  Subscriber       1983   \n",
       "7             40.739323             -74.008119   15572  Subscriber       1992   \n",
       "8             40.693261             -73.968896   17582  Subscriber       1992   \n",
       "9             40.712859             -73.965903   16010  Subscriber       1983   \n",
       "\n",
       "   gender  \n",
       "0       1  \n",
       "1       1  \n",
       "2       1  \n",
       "3       1  \n",
       "4       1  \n",
       "5       1  \n",
       "6       2  \n",
       "7       1  \n",
       "8       2  \n",
       "9       1  "
      ]
     },
     "execution_count": 33,
     "metadata": {},
     "output_type": "execute_result"
    }
   ],
   "source": [
    "# check only data (April 2017)\n",
    "dfs[0].head(10)"
   ]
  },
  {
   "cell_type": "code",
   "execution_count": 34,
   "metadata": {},
   "outputs": [
    {
     "data": {
      "text/plain": [
       "tripduration                 int64\n",
       "starttime                   object\n",
       "stoptime                    object\n",
       "start station id             int64\n",
       "start station name          object\n",
       "start station latitude     float64\n",
       "start station longitude    float64\n",
       "end station id               int64\n",
       "end station name            object\n",
       "end station latitude       float64\n",
       "end station longitude      float64\n",
       "bikeid                       int64\n",
       "usertype                    object\n",
       "birth year                  object\n",
       "gender                       int64\n",
       "dtype: object"
      ]
     },
     "execution_count": 34,
     "metadata": {},
     "output_type": "execute_result"
    }
   ],
   "source": [
    "dfs[0].dtypes"
   ]
  },
  {
   "cell_type": "code",
   "execution_count": 37,
   "metadata": {},
   "outputs": [
    {
     "name": "stdout",
     "output_type": "stream",
     "text": [
      "Converting month:\n",
      "... 1\n"
     ]
    }
   ],
   "source": [
    "print('Converting month:')\n",
    "for month in range(1):\n",
    "    if month < 8:\n",
    "        print('... ' + str(month + 1))\n",
    "        dfs[month]['starttime'] = pd.to_datetime(dfs[month]['starttime'])\n",
    "        dfs[month]['stoptime'] = pd.to_datetime(dfs[month]['stoptime'])\n",
    "    else:\n",
    "        print('... ' + str(month + 1))\n",
    "        dfs[month]['starttime'] = pd.to_datetime(dfs[month]['starttime'],\n",
    "                                                 format = '%m/%d/%Y %H:%M:%S')\n",
    "        dfs[month]['stoptime'] = pd.to_datetime(dfs[month]['stoptime'],\n",
    "                                                format = '%m/%d/%Y %H:%M:%S')"
   ]
  },
  {
   "cell_type": "code",
   "execution_count": 38,
   "metadata": {},
   "outputs": [
    {
     "data": {
      "text/plain": [
       "tripduration                        int64\n",
       "starttime                  datetime64[ns]\n",
       "stoptime                   datetime64[ns]\n",
       "start station id                    int64\n",
       "start station name                 object\n",
       "start station latitude            float64\n",
       "start station longitude           float64\n",
       "end station id                      int64\n",
       "end station name                   object\n",
       "end station latitude              float64\n",
       "end station longitude             float64\n",
       "bikeid                              int64\n",
       "usertype                           object\n",
       "birth year                         object\n",
       "gender                              int64\n",
       "dtype: object"
      ]
     },
     "execution_count": 38,
     "metadata": {},
     "output_type": "execute_result"
    }
   ],
   "source": [
    "dfs[0].dtypes"
   ]
  },
  {
   "cell_type": "code",
   "execution_count": 40,
   "metadata": {},
   "outputs": [
    {
     "data": {
      "text/html": [
       "<div>\n",
       "<style>\n",
       "    .dataframe thead tr:only-child th {\n",
       "        text-align: right;\n",
       "    }\n",
       "\n",
       "    .dataframe thead th {\n",
       "        text-align: left;\n",
       "    }\n",
       "\n",
       "    .dataframe tbody tr th {\n",
       "        vertical-align: top;\n",
       "    }\n",
       "</style>\n",
       "<table border=\"1\" class=\"dataframe\">\n",
       "  <thead>\n",
       "    <tr style=\"text-align: right;\">\n",
       "      <th></th>\n",
       "      <th>tripduration</th>\n",
       "      <th>starttime</th>\n",
       "      <th>stoptime</th>\n",
       "      <th>start station id</th>\n",
       "      <th>start station name</th>\n",
       "      <th>start station latitude</th>\n",
       "      <th>start station longitude</th>\n",
       "      <th>end station id</th>\n",
       "      <th>end station name</th>\n",
       "      <th>end station latitude</th>\n",
       "      <th>end station longitude</th>\n",
       "      <th>bikeid</th>\n",
       "      <th>usertype</th>\n",
       "      <th>birth year</th>\n",
       "      <th>gender</th>\n",
       "    </tr>\n",
       "  </thead>\n",
       "  <tbody>\n",
       "    <tr>\n",
       "      <th>670778</th>\n",
       "      <td>588</td>\n",
       "      <td>2014-04-30 23:56:43</td>\n",
       "      <td>2014-05-01 00:06:31</td>\n",
       "      <td>533</td>\n",
       "      <td>Broadway &amp; W 39 St</td>\n",
       "      <td>40.752996</td>\n",
       "      <td>-73.987216</td>\n",
       "      <td>495</td>\n",
       "      <td>W 47 St &amp; 10 Ave</td>\n",
       "      <td>40.762699</td>\n",
       "      <td>-73.993012</td>\n",
       "      <td>14567</td>\n",
       "      <td>Subscriber</td>\n",
       "      <td>1980</td>\n",
       "      <td>1</td>\n",
       "    </tr>\n",
       "    <tr>\n",
       "      <th>670779</th>\n",
       "      <td>657</td>\n",
       "      <td>2014-04-30 23:57:28</td>\n",
       "      <td>2014-05-01 00:08:25</td>\n",
       "      <td>501</td>\n",
       "      <td>FDR Drive &amp; E 35 St</td>\n",
       "      <td>40.744219</td>\n",
       "      <td>-73.971212</td>\n",
       "      <td>501</td>\n",
       "      <td>FDR Drive &amp; E 35 St</td>\n",
       "      <td>40.744219</td>\n",
       "      <td>-73.971212</td>\n",
       "      <td>20700</td>\n",
       "      <td>Subscriber</td>\n",
       "      <td>1990</td>\n",
       "      <td>1</td>\n",
       "    </tr>\n",
       "  </tbody>\n",
       "</table>\n",
       "</div>"
      ],
      "text/plain": [
       "        tripduration           starttime            stoptime  \\\n",
       "670778           588 2014-04-30 23:56:43 2014-05-01 00:06:31   \n",
       "670779           657 2014-04-30 23:57:28 2014-05-01 00:08:25   \n",
       "\n",
       "        start station id   start station name  start station latitude  \\\n",
       "670778               533   Broadway & W 39 St               40.752996   \n",
       "670779               501  FDR Drive & E 35 St               40.744219   \n",
       "\n",
       "        start station longitude  end station id     end station name  \\\n",
       "670778               -73.987216             495     W 47 St & 10 Ave   \n",
       "670779               -73.971212             501  FDR Drive & E 35 St   \n",
       "\n",
       "        end station latitude  end station longitude  bikeid    usertype  \\\n",
       "670778             40.762699             -73.993012   14567  Subscriber   \n",
       "670779             40.744219             -73.971212   20700  Subscriber   \n",
       "\n",
       "       birth year  gender  \n",
       "670778       1980       1  \n",
       "670779       1990       1  "
      ]
     },
     "execution_count": 40,
     "metadata": {},
     "output_type": "execute_result"
    }
   ],
   "source": [
    "dfs[0].tail(2)"
   ]
  },
  {
   "cell_type": "code",
   "execution_count": 41,
   "metadata": {
    "collapsed": true
   },
   "outputs": [],
   "source": [
    "df = pd.concat(dfs)"
   ]
  },
  {
   "cell_type": "code",
   "execution_count": 42,
   "metadata": {},
   "outputs": [
    {
     "data": {
      "text/plain": [
       "(670780, 15)"
      ]
     },
     "execution_count": 42,
     "metadata": {},
     "output_type": "execute_result"
    }
   ],
   "source": [
    "df.shape"
   ]
  },
  {
   "cell_type": "code",
   "execution_count": 44,
   "metadata": {},
   "outputs": [],
   "source": [
    "df.to_pickle('..citibike_2013.pk1')"
   ]
  },
  {
   "cell_type": "code",
   "execution_count": 45,
   "metadata": {
    "collapsed": true
   },
   "outputs": [],
   "source": [
    "import pandas as pd\n",
    "import matplotlib as mp1\n",
    "import matplotlib.pyplot as plt\n",
    "\n",
    "plt.style.use('ggplot')\n",
    "%matplotlib inline"
   ]
  },
  {
   "cell_type": "code",
   "execution_count": 46,
   "metadata": {},
   "outputs": [
    {
     "name": "stdout",
     "output_type": "stream",
     "text": [
      "CPU times: user 1.14 s, sys: 153 ms, total: 1.3 s\n",
      "Wall time: 1.74 s\n"
     ]
    }
   ],
   "source": [
    "file_name = '..citibike_2013.pk1'\n",
    "%time df = pd.read_pickle(file_name)"
   ]
  },
  {
   "cell_type": "code",
   "execution_count": 47,
   "metadata": {},
   "outputs": [
    {
     "data": {
      "text/plain": [
       "(670780, 15)"
      ]
     },
     "execution_count": 47,
     "metadata": {},
     "output_type": "execute_result"
    }
   ],
   "source": [
    "# Observations and variables\n",
    "df.shape"
   ]
  },
  {
   "cell_type": "code",
   "execution_count": 48,
   "metadata": {},
   "outputs": [
    {
     "data": {
      "text/plain": [
       "tripduration                        int64\n",
       "starttime                  datetime64[ns]\n",
       "stoptime                   datetime64[ns]\n",
       "start station id                    int64\n",
       "start station name                 object\n",
       "start station latitude            float64\n",
       "start station longitude           float64\n",
       "end station id                      int64\n",
       "end station name                   object\n",
       "end station latitude              float64\n",
       "end station longitude             float64\n",
       "bikeid                              int64\n",
       "usertype                           object\n",
       "birth year                         object\n",
       "gender                              int64\n",
       "dtype: object"
      ]
     },
     "execution_count": 48,
     "metadata": {},
     "output_type": "execute_result"
    }
   ],
   "source": [
    "# Variable name and data types\n",
    "df.dtypes"
   ]
  },
  {
   "cell_type": "code",
   "execution_count": 49,
   "metadata": {},
   "outputs": [
    {
     "data": {
      "text/html": [
       "<div>\n",
       "<style>\n",
       "    .dataframe thead tr:only-child th {\n",
       "        text-align: right;\n",
       "    }\n",
       "\n",
       "    .dataframe thead th {\n",
       "        text-align: left;\n",
       "    }\n",
       "\n",
       "    .dataframe tbody tr th {\n",
       "        vertical-align: top;\n",
       "    }\n",
       "</style>\n",
       "<table border=\"1\" class=\"dataframe\">\n",
       "  <thead>\n",
       "    <tr style=\"text-align: right;\">\n",
       "      <th></th>\n",
       "      <th>tripduration</th>\n",
       "      <th>starttime</th>\n",
       "      <th>stoptime</th>\n",
       "      <th>start station id</th>\n",
       "      <th>start station name</th>\n",
       "      <th>start station latitude</th>\n",
       "      <th>start station longitude</th>\n",
       "      <th>end station id</th>\n",
       "      <th>end station name</th>\n",
       "      <th>end station latitude</th>\n",
       "      <th>end station longitude</th>\n",
       "      <th>bikeid</th>\n",
       "      <th>usertype</th>\n",
       "      <th>birth year</th>\n",
       "      <th>gender</th>\n",
       "    </tr>\n",
       "  </thead>\n",
       "  <tbody>\n",
       "    <tr>\n",
       "      <th>0</th>\n",
       "      <td>558</td>\n",
       "      <td>2014-04-01 00:00:07</td>\n",
       "      <td>2014-04-01 00:09:25</td>\n",
       "      <td>82</td>\n",
       "      <td>St James Pl &amp; Pearl St</td>\n",
       "      <td>40.711174</td>\n",
       "      <td>-74.000165</td>\n",
       "      <td>2008</td>\n",
       "      <td>Little West St &amp; 1 Pl</td>\n",
       "      <td>40.705693</td>\n",
       "      <td>-74.016777</td>\n",
       "      <td>21062</td>\n",
       "      <td>Subscriber</td>\n",
       "      <td>1982</td>\n",
       "      <td>1</td>\n",
       "    </tr>\n",
       "    <tr>\n",
       "      <th>1</th>\n",
       "      <td>882</td>\n",
       "      <td>2014-04-01 00:00:20</td>\n",
       "      <td>2014-04-01 00:15:02</td>\n",
       "      <td>349</td>\n",
       "      <td>Rivington St &amp; Ridge St</td>\n",
       "      <td>40.718502</td>\n",
       "      <td>-73.983299</td>\n",
       "      <td>312</td>\n",
       "      <td>Allen St &amp; E Houston St</td>\n",
       "      <td>40.722055</td>\n",
       "      <td>-73.989111</td>\n",
       "      <td>20229</td>\n",
       "      <td>Subscriber</td>\n",
       "      <td>1988</td>\n",
       "      <td>1</td>\n",
       "    </tr>\n",
       "  </tbody>\n",
       "</table>\n",
       "</div>"
      ],
      "text/plain": [
       "   tripduration           starttime            stoptime  start station id  \\\n",
       "0           558 2014-04-01 00:00:07 2014-04-01 00:09:25                82   \n",
       "1           882 2014-04-01 00:00:20 2014-04-01 00:15:02               349   \n",
       "\n",
       "        start station name  start station latitude  start station longitude  \\\n",
       "0   St James Pl & Pearl St               40.711174               -74.000165   \n",
       "1  Rivington St & Ridge St               40.718502               -73.983299   \n",
       "\n",
       "   end station id         end station name  end station latitude  \\\n",
       "0            2008    Little West St & 1 Pl             40.705693   \n",
       "1             312  Allen St & E Houston St             40.722055   \n",
       "\n",
       "   end station longitude  bikeid    usertype birth year  gender  \n",
       "0             -74.016777   21062  Subscriber       1982       1  \n",
       "1             -73.989111   20229  Subscriber       1988       1  "
      ]
     },
     "execution_count": 49,
     "metadata": {},
     "output_type": "execute_result"
    }
   ],
   "source": [
    "# Top of dataset\n",
    "df.head(2)"
   ]
  },
  {
   "cell_type": "code",
   "execution_count": 50,
   "metadata": {},
   "outputs": [
    {
     "data": {
      "text/html": [
       "<div>\n",
       "<style>\n",
       "    .dataframe thead tr:only-child th {\n",
       "        text-align: right;\n",
       "    }\n",
       "\n",
       "    .dataframe thead th {\n",
       "        text-align: left;\n",
       "    }\n",
       "\n",
       "    .dataframe tbody tr th {\n",
       "        vertical-align: top;\n",
       "    }\n",
       "</style>\n",
       "<table border=\"1\" class=\"dataframe\">\n",
       "  <thead>\n",
       "    <tr style=\"text-align: right;\">\n",
       "      <th></th>\n",
       "      <th>tripduration</th>\n",
       "      <th>start station id</th>\n",
       "      <th>start station latitude</th>\n",
       "      <th>start station longitude</th>\n",
       "      <th>end station id</th>\n",
       "      <th>end station latitude</th>\n",
       "      <th>end station longitude</th>\n",
       "      <th>bikeid</th>\n",
       "      <th>gender</th>\n",
       "    </tr>\n",
       "  </thead>\n",
       "  <tbody>\n",
       "    <tr>\n",
       "      <th>count</th>\n",
       "      <td>670780.000000</td>\n",
       "      <td>670780.000000</td>\n",
       "      <td>670780.000000</td>\n",
       "      <td>670780.000000</td>\n",
       "      <td>670780.000000</td>\n",
       "      <td>670780.000000</td>\n",
       "      <td>670780.000000</td>\n",
       "      <td>670780.000000</td>\n",
       "      <td>670780.000000</td>\n",
       "    </tr>\n",
       "    <tr>\n",
       "      <th>mean</th>\n",
       "      <td>831.708272</td>\n",
       "      <td>450.619890</td>\n",
       "      <td>40.734874</td>\n",
       "      <td>-73.990789</td>\n",
       "      <td>450.050802</td>\n",
       "      <td>40.734640</td>\n",
       "      <td>-73.990987</td>\n",
       "      <td>18133.301440</td>\n",
       "      <td>1.106087</td>\n",
       "    </tr>\n",
       "    <tr>\n",
       "      <th>std</th>\n",
       "      <td>897.188107</td>\n",
       "      <td>361.452195</td>\n",
       "      <td>0.019466</td>\n",
       "      <td>0.012159</td>\n",
       "      <td>364.806463</td>\n",
       "      <td>0.019437</td>\n",
       "      <td>0.012236</td>\n",
       "      <td>2104.731495</td>\n",
       "      <td>0.531985</td>\n",
       "    </tr>\n",
       "    <tr>\n",
       "      <th>min</th>\n",
       "      <td>60.000000</td>\n",
       "      <td>72.000000</td>\n",
       "      <td>40.680342</td>\n",
       "      <td>-74.017134</td>\n",
       "      <td>72.000000</td>\n",
       "      <td>40.680342</td>\n",
       "      <td>-74.017134</td>\n",
       "      <td>14529.000000</td>\n",
       "      <td>0.000000</td>\n",
       "    </tr>\n",
       "    <tr>\n",
       "      <th>25%</th>\n",
       "      <td>386.000000</td>\n",
       "      <td>307.000000</td>\n",
       "      <td>40.721816</td>\n",
       "      <td>-73.999496</td>\n",
       "      <td>305.000000</td>\n",
       "      <td>40.721655</td>\n",
       "      <td>-73.999947</td>\n",
       "      <td>16301.000000</td>\n",
       "      <td>1.000000</td>\n",
       "    </tr>\n",
       "    <tr>\n",
       "      <th>50%</th>\n",
       "      <td>611.000000</td>\n",
       "      <td>407.000000</td>\n",
       "      <td>40.736502</td>\n",
       "      <td>-73.990741</td>\n",
       "      <td>405.000000</td>\n",
       "      <td>40.736494</td>\n",
       "      <td>-73.990765</td>\n",
       "      <td>18114.000000</td>\n",
       "      <td>1.000000</td>\n",
       "    </tr>\n",
       "    <tr>\n",
       "      <th>75%</th>\n",
       "      <td>1012.000000</td>\n",
       "      <td>490.000000</td>\n",
       "      <td>40.750200</td>\n",
       "      <td>-73.981948</td>\n",
       "      <td>488.000000</td>\n",
       "      <td>40.750020</td>\n",
       "      <td>-73.981948</td>\n",
       "      <td>19949.000000</td>\n",
       "      <td>1.000000</td>\n",
       "    </tr>\n",
       "    <tr>\n",
       "      <th>max</th>\n",
       "      <td>21553.000000</td>\n",
       "      <td>3002.000000</td>\n",
       "      <td>40.770513</td>\n",
       "      <td>-73.950048</td>\n",
       "      <td>3002.000000</td>\n",
       "      <td>40.771522</td>\n",
       "      <td>-73.953809</td>\n",
       "      <td>21678.000000</td>\n",
       "      <td>2.000000</td>\n",
       "    </tr>\n",
       "  </tbody>\n",
       "</table>\n",
       "</div>"
      ],
      "text/plain": [
       "        tripduration  start station id  start station latitude  \\\n",
       "count  670780.000000     670780.000000           670780.000000   \n",
       "mean      831.708272        450.619890               40.734874   \n",
       "std       897.188107        361.452195                0.019466   \n",
       "min        60.000000         72.000000               40.680342   \n",
       "25%       386.000000        307.000000               40.721816   \n",
       "50%       611.000000        407.000000               40.736502   \n",
       "75%      1012.000000        490.000000               40.750200   \n",
       "max     21553.000000       3002.000000               40.770513   \n",
       "\n",
       "       start station longitude  end station id  end station latitude  \\\n",
       "count            670780.000000   670780.000000         670780.000000   \n",
       "mean                -73.990789      450.050802             40.734640   \n",
       "std                   0.012159      364.806463              0.019437   \n",
       "min                 -74.017134       72.000000             40.680342   \n",
       "25%                 -73.999496      305.000000             40.721655   \n",
       "50%                 -73.990741      405.000000             40.736494   \n",
       "75%                 -73.981948      488.000000             40.750020   \n",
       "max                 -73.950048     3002.000000             40.771522   \n",
       "\n",
       "       end station longitude         bikeid         gender  \n",
       "count          670780.000000  670780.000000  670780.000000  \n",
       "mean              -73.990987   18133.301440       1.106087  \n",
       "std                 0.012236    2104.731495       0.531985  \n",
       "min               -74.017134   14529.000000       0.000000  \n",
       "25%               -73.999947   16301.000000       1.000000  \n",
       "50%               -73.990765   18114.000000       1.000000  \n",
       "75%               -73.981948   19949.000000       1.000000  \n",
       "max               -73.953809   21678.000000       2.000000  "
      ]
     },
     "execution_count": 50,
     "metadata": {},
     "output_type": "execute_result"
    }
   ],
   "source": [
    "# Summary\n",
    "df.describe()"
   ]
  },
  {
   "cell_type": "code",
   "execution_count": 51,
   "metadata": {},
   "outputs": [
    {
     "data": {
      "text/plain": [
       "(6532,)"
      ]
     },
     "execution_count": 51,
     "metadata": {},
     "output_type": "execute_result"
    }
   ],
   "source": [
    "# Distinct count of individual bikes\n",
    "df['bikeid'].unique().shape"
   ]
  },
  {
   "cell_type": "code",
   "execution_count": 52,
   "metadata": {},
   "outputs": [
    {
     "data": {
      "text/plain": [
       "(329,)"
      ]
     },
     "execution_count": 52,
     "metadata": {},
     "output_type": "execute_result"
    }
   ],
   "source": [
    "# Number of citibike stations\n",
    "df['start station id'].unique().shape"
   ]
  },
  {
   "cell_type": "code",
   "execution_count": 53,
   "metadata": {},
   "outputs": [
    {
     "data": {
      "text/plain": [
       "array([1, 2, 0])"
      ]
     },
     "execution_count": 53,
     "metadata": {},
     "output_type": "execute_result"
    }
   ],
   "source": [
    "# Gender (1=male, 2=female, 0=unknown)\n",
    "df['gender'].unique()"
   ]
  },
  {
   "cell_type": "code",
   "execution_count": 54,
   "metadata": {
    "collapsed": true
   },
   "outputs": [],
   "source": [
    "# Prepare data with gender info\n",
    "genders = ['Unknown', 'Male', 'Female']\n",
    "y_pos = [0,1,2]\n",
    "trip_counts = df.groupby('gender')['gender'].count()"
   ]
  },
  {
   "cell_type": "code",
   "execution_count": 63,
   "metadata": {},
   "outputs": [
    {
     "data": {
      "image/png": "[encoded data removed]",
      "text/plain": [
       "<matplotlib.figure.Figure at 0x113714250>"
      ]
     },
     "metadata": {},
     "output_type": "display_data"
    }
   ],
   "source": [
    "# Plot trip counts by gender\n",
    "plt.rcParams.update({'font.size': 12})\n",
    "plt.barh(y_pos, trip_counts / 1000000, align='center', alpha=0.5, color='orange')\n",
    "plt.yticks(y_pos, genders)\n",
    "plt.xlabel('Millions of trips')\n",
    "plt.title('Trip Distribution by Gender')\n",
    "plt.show()"
   ]
  },
  {
   "cell_type": "code",
   "execution_count": 64,
   "metadata": {
    "collapsed": true
   },
   "outputs": [],
   "source": [
    "# Trip Distribution by Duration\n",
    "# Trips shorter by 1 hour\n",
    "duration_mins = df.loc[(df.tripduration / 60 < 60)][['tripduration']]\n",
    "duration_mins = duration_mins / 60 # In minutes"
   ]
  },
  {
   "cell_type": "code",
   "execution_count": 66,
   "metadata": {},
   "outputs": [
    {
     "data": {
      "text/plain": [
       "<matplotlib.text.Text at 0x11375da50>"
      ]
     },
     "execution_count": 66,
     "metadata": {},
     "output_type": "execute_result"
    },
    {
     "data": {
      "image/png": "[encoded data removed]",
      "text/plain": [
       "<matplotlib.figure.Figure at 0x1117e4950>"
      ]
     },
     "metadata": {},
     "output_type": "display_data"
    }
   ],
   "source": [
    "# Plot trip counts by gender\n",
    "plt.rcParams.update({'font.size': 12})\n",
    "duration_mins.hist(figsize = (8,5), bins = 15, alpha = 0.5, color = 'orange')\n",
    "plt.tick_params(axis = 'both', which = 'major', labelsize = 12)\n",
    "plt.title('Trip Distribution by Duration\\n')\n",
    "plt.xlabel('Duration (min.)')\n",
    "plt.ylabel('Trip counts')"
   ]
  },
  {
   "cell_type": "code",
   "execution_count": 67,
   "metadata": {
    "collapsed": true
   },
   "outputs": [],
   "source": [
    "# Trip counts per hour on weekdays and weekends\n",
    "df_sub = df.loc[:, ['tripduration', 'starttime']] # starttime & tripduration\n",
    "df_sub.index = df_sub['starttime']\n",
    "\n",
    "weekdays = df_sub[df_sub.index.weekday < 5]\n",
    "weekends = df_sub[df_sub.index.weekday > 4]\n",
    "\n",
    "weekdays_countsPerHr = weekdays.groupby(weekdays.index.hour).size()\n",
    "weekends_countsPerHr = weekends.groupby(weekends.index.hour).size()"
   ]
  },
  {
   "cell_type": "code",
   "execution_count": 70,
   "metadata": {},
   "outputs": [
    {
     "data": {
      "image/png": "[encoded data removed]",
      "text/plain": [
       "<matplotlib.figure.Figure at 0x111a72050>"
      ]
     },
     "metadata": {},
     "output_type": "display_data"
    }
   ],
   "source": [
    "plt.rcParams.update({'font.size': 12, 'legend.fontsize': 10})\n",
    "weekdays_countsPerHr.plot(kind = 'area', stacked = False, figsize = (10,6), color = 'darkorange', linewidth = 2, label = 'Weekdays')\n",
    "weekends_countsPerHr.plot(kind = 'area', stacked = False, color = 'darkred', linewidth = 2, label = 'Weekends')\n",
    "plt.tick_params(axis = 'both', which = 'major', labelsize = 12)\n",
    "\n",
    "#ax = plt.gca()\n",
    "\n",
    "plt.title('# Trips / Hr\\n')\n",
    "plt.xlabel('Time of day (hr)\\n')\n",
    "plt.ylabel('Number of trips')\n",
    "legend = ax.legend(loc='upper left', frameon = False)"
   ]
  },
  {
   "cell_type": "code",
   "execution_count": 72,
   "metadata": {},
   "outputs": [],
   "source": [
    "# Let's check how it does # trips happen daily\n",
    "df.index = df['starttime']\n",
    "countsPerDay = df.starttime.resample('D').apply('count')"
   ]
  },
  {
   "cell_type": "code",
   "execution_count": 75,
   "metadata": {},
   "outputs": [
    {
     "data": {
      "text/plain": [
       "<matplotlib.text.Text at 0x1117a0650>"
      ]
     },
     "execution_count": 75,
     "metadata": {},
     "output_type": "execute_result"
    },
    {
     "data": {
      "image/png": "[encoded data removed]",
      "text/plain": [
       "<matplotlib.figure.Figure at 0x11186cb10>"
      ]
     },
     "metadata": {},
     "output_type": "display_data"
    }
   ],
   "source": [
    "countsPerDay.plot(kind = 'area', stacked = False, figsize = (15, 5), \n",
    "                  color = 'darkorange', linewidth = 2, legend = False)\n",
    "plt.tick_params(axis = 'both', which = 'major', labelsize = 12)\n",
    "# ax = plt.gca()\n",
    "plt.title('Number of trips / day\\n')\n",
    "plt.xlabel('')\n",
    "plt.ylabel('Number of trips')"
   ]
  },
  {
   "cell_type": "code",
   "execution_count": 100,
   "metadata": {},
   "outputs": [
    {
     "data": {
      "text/html": [
       "<div>\n",
       "<style>\n",
       "    .dataframe thead tr:only-child th {\n",
       "        text-align: right;\n",
       "    }\n",
       "\n",
       "    .dataframe thead th {\n",
       "        text-align: left;\n",
       "    }\n",
       "\n",
       "    .dataframe tbody tr th {\n",
       "        vertical-align: top;\n",
       "    }\n",
       "</style>\n",
       "<table border=\"1\" class=\"dataframe\">\n",
       "  <thead>\n",
       "    <tr style=\"text-align: right;\">\n",
       "      <th></th>\n",
       "      <th>start station id</th>\n",
       "      <th>start station name</th>\n",
       "      <th>start station latitude</th>\n",
       "      <th>start station longitude</th>\n",
       "    </tr>\n",
       "    <tr>\n",
       "      <th>start station id</th>\n",
       "      <th></th>\n",
       "      <th></th>\n",
       "      <th></th>\n",
       "      <th></th>\n",
       "    </tr>\n",
       "  </thead>\n",
       "  <tbody>\n",
       "    <tr>\n",
       "      <th>82</th>\n",
       "      <td>82</td>\n",
       "      <td>St James Pl &amp; Pearl St</td>\n",
       "      <td>40.711174</td>\n",
       "      <td>-74.000165</td>\n",
       "    </tr>\n",
       "    <tr>\n",
       "      <th>349</th>\n",
       "      <td>349</td>\n",
       "      <td>Rivington St &amp; Ridge St</td>\n",
       "      <td>40.718502</td>\n",
       "      <td>-73.983299</td>\n",
       "    </tr>\n",
       "    <tr>\n",
       "      <th>293</th>\n",
       "      <td>293</td>\n",
       "      <td>Lafayette St &amp; E 8 St</td>\n",
       "      <td>40.730287</td>\n",
       "      <td>-73.990765</td>\n",
       "    </tr>\n",
       "    <tr>\n",
       "      <th>539</th>\n",
       "      <td>539</td>\n",
       "      <td>Metropolitan Ave &amp; Bedford Ave</td>\n",
       "      <td>40.715348</td>\n",
       "      <td>-73.960241</td>\n",
       "    </tr>\n",
       "    <tr>\n",
       "      <th>459</th>\n",
       "      <td>459</td>\n",
       "      <td>W 20 St &amp; 11 Ave</td>\n",
       "      <td>40.746745</td>\n",
       "      <td>-74.007756</td>\n",
       "    </tr>\n",
       "  </tbody>\n",
       "</table>\n",
       "</div>"
      ],
      "text/plain": [
       "                  start station id              start station name  \\\n",
       "start station id                                                     \n",
       "82                              82          St James Pl & Pearl St   \n",
       "349                            349         Rivington St & Ridge St   \n",
       "293                            293           Lafayette St & E 8 St   \n",
       "539                            539  Metropolitan Ave & Bedford Ave   \n",
       "459                            459                W 20 St & 11 Ave   \n",
       "\n",
       "                  start station latitude  start station longitude  \n",
       "start station id                                                   \n",
       "82                             40.711174               -74.000165  \n",
       "349                            40.718502               -73.983299  \n",
       "293                            40.730287               -73.990765  \n",
       "539                            40.715348               -73.960241  \n",
       "459                            40.746745               -74.007756  "
      ]
     },
     "execution_count": 100,
     "metadata": {},
     "output_type": "execute_result"
    }
   ],
   "source": [
    "# Start Station Details\n",
    "start_station = df.iloc[:,[3,4,5,6]]\n",
    "start_station.index = start_station['start station id']\n",
    "start_station.head()"
   ]
  },
  {
   "cell_type": "code",
   "execution_count": 101,
   "metadata": {},
   "outputs": [
    {
     "data": {
      "text/plain": [
       "(329, 4)"
      ]
     },
     "execution_count": 101,
     "metadata": {},
     "output_type": "execute_result"
    }
   ],
   "source": [
    "start_station = start_station.drop_duplicates() #???\n",
    "start_station.shape"
   ]
  },
  {
   "cell_type": "code",
   "execution_count": 102,
   "metadata": {},
   "outputs": [
    {
     "data": {
      "text/html": [
       "<div>\n",
       "<style>\n",
       "    .dataframe thead tr:only-child th {\n",
       "        text-align: right;\n",
       "    }\n",
       "\n",
       "    .dataframe thead th {\n",
       "        text-align: left;\n",
       "    }\n",
       "\n",
       "    .dataframe tbody tr th {\n",
       "        vertical-align: top;\n",
       "    }\n",
       "</style>\n",
       "<table border=\"1\" class=\"dataframe\">\n",
       "  <thead>\n",
       "    <tr style=\"text-align: right;\">\n",
       "      <th></th>\n",
       "      <th>start station id</th>\n",
       "      <th>start station name</th>\n",
       "      <th>start station latitude</th>\n",
       "      <th>start station longitude</th>\n",
       "      <th>trip count</th>\n",
       "      <th>mean duration</th>\n",
       "    </tr>\n",
       "    <tr>\n",
       "      <th>start station id</th>\n",
       "      <th></th>\n",
       "      <th></th>\n",
       "      <th></th>\n",
       "      <th></th>\n",
       "      <th></th>\n",
       "      <th></th>\n",
       "    </tr>\n",
       "  </thead>\n",
       "  <tbody>\n",
       "    <tr>\n",
       "      <th>82</th>\n",
       "      <td>82</td>\n",
       "      <td>St James Pl &amp; Pearl St</td>\n",
       "      <td>40.711174</td>\n",
       "      <td>-74.000165</td>\n",
       "      <td>805</td>\n",
       "      <td>908.334161</td>\n",
       "    </tr>\n",
       "    <tr>\n",
       "      <th>349</th>\n",
       "      <td>349</td>\n",
       "      <td>Rivington St &amp; Ridge St</td>\n",
       "      <td>40.718502</td>\n",
       "      <td>-73.983299</td>\n",
       "      <td>1254</td>\n",
       "      <td>835.337321</td>\n",
       "    </tr>\n",
       "    <tr>\n",
       "      <th>293</th>\n",
       "      <td>293</td>\n",
       "      <td>Lafayette St &amp; E 8 St</td>\n",
       "      <td>40.730287</td>\n",
       "      <td>-73.990765</td>\n",
       "      <td>7056</td>\n",
       "      <td>677.009637</td>\n",
       "    </tr>\n",
       "    <tr>\n",
       "      <th>539</th>\n",
       "      <td>539</td>\n",
       "      <td>Metropolitan Ave &amp; Bedford Ave</td>\n",
       "      <td>40.715348</td>\n",
       "      <td>-73.960241</td>\n",
       "      <td>1345</td>\n",
       "      <td>1283.053532</td>\n",
       "    </tr>\n",
       "    <tr>\n",
       "      <th>459</th>\n",
       "      <td>459</td>\n",
       "      <td>W 20 St &amp; 11 Ave</td>\n",
       "      <td>40.746745</td>\n",
       "      <td>-74.007756</td>\n",
       "      <td>3566</td>\n",
       "      <td>911.705272</td>\n",
       "    </tr>\n",
       "  </tbody>\n",
       "</table>\n",
       "</div>"
      ],
      "text/plain": [
       "                  start station id              start station name  \\\n",
       "start station id                                                     \n",
       "82                              82          St James Pl & Pearl St   \n",
       "349                            349         Rivington St & Ridge St   \n",
       "293                            293           Lafayette St & E 8 St   \n",
       "539                            539  Metropolitan Ave & Bedford Ave   \n",
       "459                            459                W 20 St & 11 Ave   \n",
       "\n",
       "                  start station latitude  start station longitude  trip count  \\\n",
       "start station id                                                                \n",
       "82                             40.711174               -74.000165         805   \n",
       "349                            40.718502               -73.983299        1254   \n",
       "293                            40.730287               -73.990765        7056   \n",
       "539                            40.715348               -73.960241        1345   \n",
       "459                            40.746745               -74.007756        3566   \n",
       "\n",
       "                  mean duration  \n",
       "start station id                 \n",
       "82                   908.334161  \n",
       "349                  835.337321  \n",
       "293                  677.009637  \n",
       "539                 1283.053532  \n",
       "459                  911.705272  "
      ]
     },
     "execution_count": 102,
     "metadata": {},
     "output_type": "execute_result"
    }
   ],
   "source": [
    "count_start_station = df.groupby('start station id')['start station id'].count()\n",
    "mean_start_station = df.groupby('start station id')['tripduration'].mean()\n",
    "start_station['trip count'] = count_start_station\n",
    "start_station['mean duration'] = mean_start_station\n",
    "start_station.head()"
   ]
  },
  {
   "cell_type": "code",
   "execution_count": 103,
   "metadata": {},
   "outputs": [
    {
     "data": {
      "text/plain": [
       "start station id\n",
       "72     2380\n",
       "79     1679\n",
       "82      805\n",
       "83      886\n",
       "116    3748\n",
       "Name: start station id, dtype: int64"
      ]
     },
     "execution_count": 103,
     "metadata": {},
     "output_type": "execute_result"
    }
   ],
   "source": [
    "count_start_station.head()"
   ]
  },
  {
   "cell_type": "code",
   "execution_count": 104,
   "metadata": {},
   "outputs": [
    {
     "data": {
      "text/html": [
       "<div>\n",
       "<style>\n",
       "    .dataframe thead tr:only-child th {\n",
       "        text-align: right;\n",
       "    }\n",
       "\n",
       "    .dataframe thead th {\n",
       "        text-align: left;\n",
       "    }\n",
       "\n",
       "    .dataframe tbody tr th {\n",
       "        vertical-align: top;\n",
       "    }\n",
       "</style>\n",
       "<table border=\"1\" class=\"dataframe\">\n",
       "  <thead>\n",
       "    <tr style=\"text-align: right;\">\n",
       "      <th></th>\n",
       "      <th>start station id</th>\n",
       "      <th>start station name</th>\n",
       "      <th>start station latitude</th>\n",
       "      <th>start station longitude</th>\n",
       "      <th>trip count</th>\n",
       "      <th>mean duration</th>\n",
       "    </tr>\n",
       "    <tr>\n",
       "      <th>start station id</th>\n",
       "      <th></th>\n",
       "      <th></th>\n",
       "      <th></th>\n",
       "      <th></th>\n",
       "      <th></th>\n",
       "      <th></th>\n",
       "    </tr>\n",
       "  </thead>\n",
       "  <tbody>\n",
       "    <tr>\n",
       "      <th>281</th>\n",
       "      <td>281</td>\n",
       "      <td>Grand Army Plaza &amp; Central Park S</td>\n",
       "      <td>40.764397</td>\n",
       "      <td>-73.973715</td>\n",
       "      <td>3788</td>\n",
       "      <td>1502.153643</td>\n",
       "    </tr>\n",
       "    <tr>\n",
       "      <th>471</th>\n",
       "      <td>471</td>\n",
       "      <td>Grand St &amp; Havemeyer St</td>\n",
       "      <td>40.712868</td>\n",
       "      <td>-73.956981</td>\n",
       "      <td>604</td>\n",
       "      <td>1440.269868</td>\n",
       "    </tr>\n",
       "    <tr>\n",
       "      <th>2002</th>\n",
       "      <td>2002</td>\n",
       "      <td>Wythe Ave &amp; Metropolitan Ave</td>\n",
       "      <td>40.716887</td>\n",
       "      <td>-73.963198</td>\n",
       "      <td>1448</td>\n",
       "      <td>1503.791436</td>\n",
       "    </tr>\n",
       "    <tr>\n",
       "      <th>2006</th>\n",
       "      <td>2006</td>\n",
       "      <td>Central Park S &amp; 6 Ave</td>\n",
       "      <td>40.765909</td>\n",
       "      <td>-73.976342</td>\n",
       "      <td>2680</td>\n",
       "      <td>1914.380970</td>\n",
       "    </tr>\n",
       "    <tr>\n",
       "      <th>481</th>\n",
       "      <td>481</td>\n",
       "      <td>S 3 St &amp; Bedford Ave</td>\n",
       "      <td>40.712605</td>\n",
       "      <td>-73.962644</td>\n",
       "      <td>744</td>\n",
       "      <td>1504.587366</td>\n",
       "    </tr>\n",
       "    <tr>\n",
       "      <th>217</th>\n",
       "      <td>217</td>\n",
       "      <td>Old Fulton St</td>\n",
       "      <td>40.702772</td>\n",
       "      <td>-73.993836</td>\n",
       "      <td>1276</td>\n",
       "      <td>1650.287618</td>\n",
       "    </tr>\n",
       "    <tr>\n",
       "      <th>398</th>\n",
       "      <td>398</td>\n",
       "      <td>Atlantic Ave &amp; Furman St</td>\n",
       "      <td>40.691652</td>\n",
       "      <td>-73.999979</td>\n",
       "      <td>854</td>\n",
       "      <td>1416.525761</td>\n",
       "    </tr>\n",
       "  </tbody>\n",
       "</table>\n",
       "</div>"
      ],
      "text/plain": [
       "                  start station id                 start station name  \\\n",
       "start station id                                                        \n",
       "281                            281  Grand Army Plaza & Central Park S   \n",
       "471                            471            Grand St & Havemeyer St   \n",
       "2002                          2002       Wythe Ave & Metropolitan Ave   \n",
       "2006                          2006             Central Park S & 6 Ave   \n",
       "481                            481               S 3 St & Bedford Ave   \n",
       "217                            217                      Old Fulton St   \n",
       "398                            398           Atlantic Ave & Furman St   \n",
       "\n",
       "                  start station latitude  start station longitude  trip count  \\\n",
       "start station id                                                                \n",
       "281                            40.764397               -73.973715        3788   \n",
       "471                            40.712868               -73.956981         604   \n",
       "2002                           40.716887               -73.963198        1448   \n",
       "2006                           40.765909               -73.976342        2680   \n",
       "481                            40.712605               -73.962644         744   \n",
       "217                            40.702772               -73.993836        1276   \n",
       "398                            40.691652               -73.999979         854   \n",
       "\n",
       "                  mean duration  \n",
       "start station id                 \n",
       "281                 1502.153643  \n",
       "471                 1440.269868  \n",
       "2002                1503.791436  \n",
       "2006                1914.380970  \n",
       "481                 1504.587366  \n",
       "217                 1650.287618  \n",
       "398                 1416.525761  "
      ]
     },
     "execution_count": 104,
     "metadata": {},
     "output_type": "execute_result"
    }
   ],
   "source": [
    "start_station[start_station['mean duration'] > 1400]"
   ]
  },
  {
   "cell_type": "code",
   "execution_count": 109,
   "metadata": {},
   "outputs": [
    {
     "data": {
      "text/plain": [
       "10.198262411347518"
      ]
     },
     "execution_count": 109,
     "metadata": {},
     "output_type": "execute_result"
    }
   ],
   "source": [
    "start_station['mean duration'].min()"
   ]
  },
  {
   "cell_type": "code",
   "execution_count": 113,
   "metadata": {},
   "outputs": [
    {
     "data": {
      "text/plain": [
       "31.906349502487561"
      ]
     },
     "execution_count": 113,
     "metadata": {},
     "output_type": "execute_result"
    }
   ],
   "source": [
    "start_station['mean duration'].max()"
   ]
  },
  {
   "cell_type": "code",
   "execution_count": 115,
   "metadata": {},
   "outputs": [
    {
     "data": {
      "text/plain": [
       "7996"
      ]
     },
     "execution_count": 115,
     "metadata": {},
     "output_type": "execute_result"
    }
   ],
   "source": [
    "start_station['trip count'].max()"
   ]
  },
  {
   "cell_type": "code",
   "execution_count": 116,
   "metadata": {},
   "outputs": [
    {
     "data": {
      "text/plain": [
       "23"
      ]
     },
     "execution_count": 116,
     "metadata": {},
     "output_type": "execute_result"
    }
   ],
   "source": [
    "start_station['trip count'].min()"
   ]
  },
  {
   "cell_type": "code",
   "execution_count": null,
   "metadata": {},
   "outputs": [],
   "source": []
  },
  {
   "cell_type": "code",
   "execution_count": null,
   "metadata": {
    "collapsed": true
   },
   "outputs": [],
   "source": []
  },
  {
   "cell_type": "code",
   "execution_count": 129,
   "metadata": {},
   "outputs": [],
   "source": [
    "import folium\n",
    "from matplotlib.colors import Normalize, rgb2hex\n",
    "import matplotlib.cm as cm"
   ]
  },
  {
   "cell_type": "code",
   "execution_count": 132,
   "metadata": {},
   "outputs": [],
   "source": [
    "norm = Normalize(start_station['trip count'].min(), start_station)\n",
    "\n",
    "# Get dark tileset from CartoBD (https://cartodb.com/basemaps)\n",
    "tileset = r'http://{s}.basemaps.cartocdn.com/dark_all/{z}/{x}/{y}.png'\n",
    "\n",
    "start_station_map = folium.Map(location = [40.74, -73.99], \n",
    "                               width = 400, \n",
    "                               height = 600,\n",
    "                               tiles = tileset,\n",
    "                               attr = '&copy; <a href=\"http://www.openstreetmap.org/copyright\">OpenStreetMap</a> contributors, &copy; <a href=\"http://cartodb.com/attributions\">CartoDB</a>',\n",
    "                              zoom_start = 12)"
   ]
  },
  {
   "cell_type": "code",
   "execution_count": 174,
   "metadata": {},
   "outputs": [],
   "source": [
    "for index, row in start_station.iterrows():\n",
    "    tc_color = rgb2hex(cm.YlOrRd(row['trip count']))\n",
    "    folium.CircleMarker([row['start station latitude'],\n",
    "                        row['start station longitude']],\n",
    "                    radius=(row['mean duration'] / 10),\n",
    "                    popup=row['start station name'], \n",
    "                    color=tc_color,\n",
    "                    fill_color=tc_color\n",
    "                   ).add_to(start_station_map)"
   ]
  },
  {
   "cell_type": "code",
   "execution_count": 177,
   "metadata": {},
   "outputs": [],
   "source": [
    "start_station_map.save('start_station_map.html')"
   ]
  },
  {
   "cell_type": "code",
   "execution_count": 178,
   "metadata": {
    "collapsed": true
   },
   "outputs": [],
   "source": [
    "del start_station_map"
   ]
  },
  {
   "cell_type": "code",
   "execution_count": 181,
   "metadata": {},
   "outputs": [
    {
     "data": {
      "text/html": [
       "\n",
       "        <iframe\n",
       "            width=\"400\"\n",
       "            height=\"600\"\n",
       "            src=\"start_station_map.html\"\n",
       "            frameborder=\"0\"\n",
       "            allowfullscreen\n",
       "        ></iframe>\n",
       "        "
      ],
      "text/plain": [
       "<IPython.lib.display.IFrame at 0x12c6d1f10>"
      ]
     },
     "execution_count": 181,
     "metadata": {},
     "output_type": "execute_result"
    }
   ],
   "source": [
    "from IPython.display import IFrame\n",
    "IFrame('start_station_map.html', width = 400, height = 600)"
   ]
  },
  {
   "cell_type": "code",
   "execution_count": 183,
   "metadata": {},
   "outputs": [
    {
     "data": {
      "image/png": "[encoded data removed]",
      "text/plain": [
       "<matplotlib.figure.Figure at 0x111b08e90>"
      ]
     },
     "metadata": {},
     "output_type": "display_data"
    }
   ],
   "source": [
    "plt.rcParams.update({'font.size':12})\n",
    "fig = plt.figure(figsize = (.5, 30))\n",
    "ax1 = fig.add_axes([0.05, 0.80, 0.9, 0.15])\n",
    "\n",
    "# Set the colormap and norm to correspond to data\n",
    "cmap = mp1.cm.YlOrRd\n",
    "norm = mp1.colors.Normalize(start_station['trip count'].min(), start_station['trip count'].max())\n",
    "\n",
    "cb1 = mp1.colorbar.ColorbarBase(ax1, cmap = cmap, norm = norm, orientation = 'vertical')\n",
    "cb1.set_label('Trip counts')\n",
    "\n",
    "# Save as file\n",
    "from pylab import *\n",
    "savefig('color_scale_start_station.png', bbox_inches = 'tight')"
   ]
  },
  {
   "cell_type": "code",
   "execution_count": 184,
   "metadata": {},
   "outputs": [
    {
     "data": {
      "text/plain": [
       "7996"
      ]
     },
     "execution_count": 184,
     "metadata": {},
     "output_type": "execute_result"
    }
   ],
   "source": [
    "start_station['trip count'].max()"
   ]
  },
  {
   "cell_type": "code",
   "execution_count": 185,
   "metadata": {},
   "outputs": [
    {
     "data": {
      "text/plain": [
       "23"
      ]
     },
     "execution_count": 185,
     "metadata": {},
     "output_type": "execute_result"
    }
   ],
   "source": [
    "start_station['trip count'].min()"
   ]
  },
  {
   "cell_type": "code",
   "execution_count": 186,
   "metadata": {},
   "outputs": [
    {
     "data": {
      "text/plain": [
       "31.906349502487561"
      ]
     },
     "execution_count": 186,
     "metadata": {},
     "output_type": "execute_result"
    }
   ],
   "source": [
    "start_station['mean duration'].max() / 60"
   ]
  },
  {
   "cell_type": "code",
   "execution_count": 187,
   "metadata": {},
   "outputs": [
    {
     "data": {
      "text/plain": [
       "10.198262411347518"
      ]
     },
     "execution_count": 187,
     "metadata": {},
     "output_type": "execute_result"
    }
   ],
   "source": [
    "start_station['mean duration'].min() / 60"
   ]
  },
  {
   "cell_type": "code",
   "execution_count": null,
   "metadata": {
    "collapsed": true
   },
   "outputs": [],
   "source": []
  }
 ],
 "metadata": {
  "kernelspec": {
   "display_name": "Python 2",
   "language": "python",
   "name": "python2"
  },
  "language_info": {
   "codemirror_mode": {
    "name": "ipython",
    "version": 2
   },
   "file_extension": ".py",
   "mimetype": "text/x-python",
   "name": "python",
   "nbconvert_exporter": "python",
   "pygments_lexer": "ipython2",
   "version": "2.7.13"
  }
 },
 "nbformat": 4,
 "nbformat_minor": 2
}
